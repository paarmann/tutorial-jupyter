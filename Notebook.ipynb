{
 "cells": [
  {
   "cell_type": "markdown",
   "metadata": {
    "slideshow": {
     "slide_type": "-"
    }
   },
   "source": [
    "# Jupyter notebooks tutorial\n",
    "\n",
    "Hi, I'm a notebook.\n",
    "\n",
    "Jupyter Notebooks are a fantastic tool to interactively develop and document your data projects. It integrates code, the output of your code and explanatory text - like this one here - into a single document. And being part of the open source project Jupyter: it's free. \n",
    "\n",
    "For any questions not covered in this tutorial, you will find the documentation for Jupyter here: https://jupyter.readthedocs.io/en/latest/"
   ]
  },
  {
   "cell_type": "markdown",
   "metadata": {},
   "source": [
    "## Installation\n",
    "\n",
    "This tutorial assumes that you managed to install and run Jupyter labs. Here's the short of it.\n",
    "\n",
    "A typical way to install Jupyter lab, especially on Windows, is to install [Anaconda](https://anaconda.org/). Anaconda is a widely used distribution of Python and includes many, frequently used libraries for you convenience. \n",
    "\n",
    "Another way to install Jupyter lab, especially if you are used to managing your own venv (virtual environments) and to install your own packages, is to use pip:\n",
    "\n",
    "```\n",
    "pip3 install jupyterlab\n",
    "```\n",
    "\n",
    "Depending on your installation method, you run Jupyter lab by clicking on the icon provided by Anaconda or run `jupyter lab` from the console. If it does not open automatically, you can find your Jupyter lab in your web browser using http://localhost:8888/lab."
   ]
  },
  {
   "cell_type": "markdown",
   "metadata": {},
   "source": [
    "## Cells\n",
    "\n",
    "One of the basic concepts of a Jupyter notebooks is cells - the little building blocks of your document. You can add new cells before or after existing ones and even drag around existing cells to reorder them. \n",
    "\n",
    "Cells can be either **Code**, **Markdown**, or **Raw** cells. \n",
    "\n",
    "* Code - A cell that holds your source code (e.g. Python) and when run adds the output of the code to your document below the cell.\n",
    "* Markdown - A cell that contains text that is formatted using Markdown and displays its output in-place when it is run. \n",
    "* Raw - A cell that is just that, raw text that will not be changed in any way when the cell is run. "
   ]
  },
  {
   "cell_type": "markdown",
   "metadata": {},
   "source": [
    "## Wait, run cells?\n",
    "\n",
    "Use the mouse to double-click on this text. Notice it gets highlighted by a blue bar on the left side and turns into a editor field. In case you have an older version of Jupyter, the blue bar may be a different colour (e.g. green).\n",
    "\n",
    "You can run the cell by pressing the *Play* icon in the toolbar above or press `Ctrl + Enter`. Since it is a Markdown cell, it will be displayed as nicely formatted text again.\n",
    "\n",
    "More on running Code cells a little bit further down."
   ]
  },
  {
   "cell_type": "markdown",
   "metadata": {},
   "source": [
    "## Markdown - a side note\n",
    "\n",
    "All the documentation in a notebook is formatted using Markdown. Markdown is a very lightweight way to provide a plain text with formatting. \n",
    "\n",
    "If you double-click into any of the cells of this notebook, you will see how the formatting works. So if you want to know how a nice, big headline ends up being a headline, double-click in this cell and note the '##' at the beginning of the line. This is a level 2 headline. \n",
    "\n",
    "Go explore, or read the about the formatting options here in [Jupyter notebook documentation](https://jupyter-notebook.readthedocs.io/en/stable/examples/Notebook/Working%20With%20Markdown%20Cells.html) or in the original markdown specification here: https://daringfireball.net/projects/markdown/."
   ]
  },
  {
   "cell_type": "markdown",
   "metadata": {},
   "source": [
    "## Hello World\n",
    "\n",
    "Let's start with the classic hello world example. Select the next cell and run it."
   ]
  },
  {
   "cell_type": "code",
   "execution_count": null,
   "metadata": {},
   "outputs": [],
   "source": [
    "print('Hello World!')"
   ]
  },
  {
   "cell_type": "markdown",
   "metadata": {},
   "source": [
    "That worked nicely. As expected it runs our little Python command and prints 'Hello World!'. \n",
    "\n",
    "Notice how Code cells have a little gray label `[ ]:` next to it. \n",
    "\n",
    "When you run the cell, it changes to `[1]:` indicating that this is the first cell that has been run in the notebook. Select the above cell and run it again. The label changes to `[2]:`. This is really useful later on, because it tells us what has been executed in which order. \n",
    "\n",
    "While a cell is still running, the label is displayed as `[*]`. Let's try that out. Select the next cell and run it. It will not produce any output, but takes 5 seconds to run."
   ]
  },
  {
   "cell_type": "code",
   "execution_count": null,
   "metadata": {},
   "outputs": [],
   "source": [
    "import time\n",
    "time.sleep(5)"
   ]
  },
  {
   "cell_type": "markdown",
   "metadata": {},
   "source": [
    "## Where does the output come from? \n",
    "\n",
    "Our first example printed \"Hello World!\" whereas the second example did not print anything or return any value."
   ]
  },
  {
   "cell_type": "markdown",
   "metadata": {},
   "source": [
    "In general, the output comes from anything that is specifically printed by your code, as well as the value of the last line in the cell. Let's test that."
   ]
  },
  {
   "cell_type": "code",
   "execution_count": null,
   "metadata": {},
   "outputs": [],
   "source": [
    "x = 'C'\n",
    "print('A') # specifically printed by the code\n",
    "print('B')\n",
    "x          # value of the last line"
   ]
  },
  {
   "cell_type": "markdown",
   "metadata": {},
   "source": [
    "### Handling large outputs \n",
    "\n",
    "Let's make a mess and run the next cell. \n",
    "\n",
    "1. Click on the output cell below and the click on the blue bar to the left. This collapses the output and shows three dots (...) instead. Click on the three dots to show the output again. \n",
    "\n",
    "2. Right-click on the output cell below and select \"Enable Scrolling for outputs\". This turns the output cell into a smaller view with a scrollbar on the right hand side. Right-click again and switch to \"Disable Scrolling for outputs\" to change to the normal behaviour."
   ]
  },
  {
   "cell_type": "code",
   "execution_count": null,
   "metadata": {},
   "outputs": [],
   "source": [
    "for i in range(500):\n",
    "    print(2**i)"
   ]
  },
  {
   "cell_type": "markdown",
   "metadata": {},
   "source": [
    "## Keyboard shortcuts\n",
    "\n",
    "We already used `Ctrl + Enter` to run a cell. Jupyter notebooks offer many other shortcuts to quickly navigate and edit. You can find some of these shortcuts in the menus in your Jupyter Lab, e.g. the Edit menu. Here are some of my favorites.\n",
    "\n",
    "* `ENTER` change to cell mode to edit the content of a cell\n",
    "* `ESC` change to command mode which allows many other shortcuts \n",
    "\n",
    "In command mode: \n",
    "\n",
    "* `A` insert a cell above the currently selected cell\n",
    "* `B` insert a cell below the currently selected cell\n",
    "* `Arrow up/down` scroll up or down one cell\n",
    "* `M` change cell to a Markdown cell\n",
    "* `Y` change cell to a Code cell\n",
    "* `R` change cell to a Raw cell\n",
    "* `D, D` pressing D twice deletes the currently selected cell\n",
    "* `Z` undo the deletion (or any other cell operation)\n",
    "* `SHIFT + Arrow up/down` select multiple cells at once\n",
    "* `SHIFT + M` merge multiple selected cells into one cell\n",
    "* `CTRL + SHIFT + –` split the currently selected cell into two cells at your cursor\n",
    "\n",
    "In edit mode:\n",
    "\n",
    "* `TAB` select one or more lines and indent them\n",
    "* `SHIFT + TAB` select one or more lines and outdent them"
   ]
  },
  {
   "cell_type": "markdown",
   "metadata": {},
   "source": [
    "## A small data example\n",
    "\n",
    "Before we move on to more advanced topics in Jupyter, let's have a short example how you would actually work with data using Python. Let's start by importing a few libraries."
   ]
  },
  {
   "cell_type": "code",
   "execution_count": null,
   "metadata": {},
   "outputs": [],
   "source": [
    "import numpy as np\n",
    "import pandas as pd"
   ]
  },
  {
   "cell_type": "markdown",
   "metadata": {},
   "source": [
    "Next, we need some data. For example, by loading it from an Excel file, a csv file or a database. Or in this case by generating a random number distribution. "
   ]
  },
  {
   "cell_type": "code",
   "execution_count": null,
   "metadata": {},
   "outputs": [],
   "source": [
    "df = pd.DataFrame(columns=list('A'))\n",
    "df['A'] = np.random.randn(1000)\n",
    "df.head(5)"
   ]
  },
  {
   "cell_type": "markdown",
   "metadata": {},
   "source": [
    "Here we randomly filled a Pandas dataframe with a column labelled 'A' with a random sample of size 1000 from the standard distribution. We can use Pandas build in functions to calculate some statistics."
   ]
  },
  {
   "cell_type": "code",
   "execution_count": null,
   "metadata": {},
   "outputs": [],
   "source": [
    "df.describe()"
   ]
  },
  {
   "cell_type": "markdown",
   "metadata": {},
   "source": [
    "A picture says more than thousand words."
   ]
  },
  {
   "cell_type": "code",
   "execution_count": null,
   "metadata": {},
   "outputs": [],
   "source": [
    "df.hist()"
   ]
  },
  {
   "cell_type": "markdown",
   "metadata": {},
   "source": [
    "There is a detailed example of how to work with Pandas and your data in a separate tutorial. For now the message is that it's easy to read data into your notebook using Pandas, work with\n",
    "and analyse the data as well as present it using text and diagrams. "
   ]
  },
  {
   "cell_type": "markdown",
   "metadata": {},
   "source": [
    "## Kernels\n",
    "\n",
    "A kernel is the \"computational engine\" that executes the code contained in your notebook. When you run a code cell, its content is executed by the kernel and the output returned and displayed in your document. The kernel persists as you work in the notebook. That's why when we introduce a variable a few cells above called ```x```, we can use it again. "
   ]
  },
  {
   "cell_type": "code",
   "execution_count": null,
   "metadata": {},
   "outputs": [],
   "source": [
    "print(x)"
   ]
  },
  {
   "cell_type": "markdown",
   "metadata": {},
   "source": [
    "The kernel also determines which programming language you can use in Code cells. This notebook uses the default [Python](https://python.org) kernel, but kernels supporting [R](https://www.r-project.org) or many [others](https://github.com/jupyter/jupyter/wiki/Jupyter-kernels) are available. "
   ]
  },
  {
   "cell_type": "markdown",
   "metadata": {},
   "source": [
    "### Order of computation \n",
    "\n",
    "Usually, a notebook is read top to bottom. It is however also common to go back and forth while working on your data. That's where the labels next to your Code cells comes in handy. The kernel keeps track of the state of your computations - however it does not care about the actual order in the document, just about the order in which cells are executed. \n",
    "\n",
    "Here's an example: Let's say we have 2 variables ```a``` and ```b```."
   ]
  },
  {
   "cell_type": "code",
   "execution_count": null,
   "metadata": {},
   "outputs": [],
   "source": [
    "a = 1\n",
    "b = a"
   ]
  },
  {
   "cell_type": "markdown",
   "metadata": {},
   "source": [
    "Now ```a``` and ```b``` should be the same."
   ]
  },
  {
   "cell_type": "code",
   "execution_count": null,
   "metadata": {},
   "outputs": [],
   "source": [
    "print(a==b)"
   ]
  },
  {
   "cell_type": "markdown",
   "metadata": {},
   "source": [
    "Good, that works as expected. Now let's change ```a```."
   ]
  },
  {
   "cell_type": "code",
   "execution_count": null,
   "metadata": {},
   "outputs": [],
   "source": [
    "a = a + 1"
   ]
  },
  {
   "cell_type": "markdown",
   "metadata": {},
   "source": [
    "Go back, select the cell with ```print(a==b)``` and run it again. Observe what happens and continue here."
   ]
  },
  {
   "cell_type": "code",
   "execution_count": null,
   "metadata": {},
   "outputs": [],
   "source": [
    "print(a,b)"
   ]
  },
  {
   "cell_type": "markdown",
   "metadata": {},
   "source": [
    "Looking at the order of how we executed that makes perfect sense. ```a``` and ```b``` start out as 1, thus are equal. We add 1 to ```a```, thus ```a``` is 2 and ```b``` is 1. If we go back and test equality again, it's false."
   ]
  },
  {
   "cell_type": "markdown",
   "metadata": {},
   "source": [
    "### Kernel commands\n",
    "\n",
    "Sometimes, it may be necessary to reset the computations to ensure a clean flow. There are several ways to do so in the top menu bar under \"Kernel\".\n",
    "\n",
    "* Restart: restart the kernel and clear the internal state, i.e. all the variables etc. (shortcut: ```0, 0```)\n",
    "* Restart & Clear Output: same as above, and remove all the output below the cells\n",
    "* Restart & Run All: same as above, and will run all the cells from top to bottom\n",
    "\n",
    "If your computations are ever stuck, you can also interrupt the kernel.\n",
    "\n",
    "* Interrupt: stop the current execution (shortcut: ```I, I```, press i twice)"
   ]
  },
  {
   "cell_type": "code",
   "execution_count": null,
   "metadata": {},
   "outputs": [],
   "source": [
    "time.sleep(500)"
   ]
  },
  {
   "cell_type": "markdown",
   "metadata": {},
   "source": [
    "Do you really want to wait 500 seconds? Interrupt the kernel."
   ]
  },
  {
   "cell_type": "markdown",
   "metadata": {},
   "source": [
    "## Getting help\n",
    "\n",
    "The ```Help``` menu provides useful links to the online documentation of Jupyter, but also to common libraries like NumPy, Pandas or Matplotlib. \n",
    "\n",
    "In addition, you can get help a lot of things prepending it with ?, for example on a python method."
   ]
  },
  {
   "cell_type": "code",
   "execution_count": null,
   "metadata": {},
   "outputs": [],
   "source": [
    "?str.lstrip"
   ]
  },
  {
   "cell_type": "markdown",
   "metadata": {},
   "source": [
    "## Sharing notebooks\n",
    "\n",
    "Notebooks are self-contained (unless you run/load external scripts or data into it. Thus, the easiest way to share your work is simply using the notebook file (.ipynb) itself. \n",
    "\n",
    "For those that don't use Jupyter, you can convert the notebook to a html file using File > Export Notebook As... > Export Notebook to HTML. Anyone with a web browser will be able to look at this file. \n",
    "\n",
    "Alternatively you can upload your notebook to a [GitHub](https://github.com) or [GitLab](https://gitlab.com) repository, both of which display notebooks properly. See this example. "
   ]
  },
  {
   "cell_type": "markdown",
   "metadata": {},
   "source": [
    "## LaTeX support\n",
    "\n",
    "LaTeX is often used in technical or scientific documents. It's a way of formatting and typesetting documents. It also is good at displaying mathematical formula. Thanks to [Mathjax](https://mathjax.org), it's possible to use LaTeX in the Markdown cells of your notebook. \n",
    "\n",
    "Here's how:"
   ]
  },
  {
   "cell_type": "markdown",
   "metadata": {},
   "source": [
    "$$P(A \\mid B) = \\frac{P(B \\mid A)P(A)}{P(B)}$$"
   ]
  },
  {
   "cell_type": "markdown",
   "metadata": {},
   "source": [
    "Or in a sentence: $c = \\sqrt{a^2+b^2}$ ... see?"
   ]
  },
  {
   "cell_type": "markdown",
   "metadata": {},
   "source": [
    "You can tell Jupyter that a cell contains only latex."
   ]
  },
  {
   "cell_type": "code",
   "execution_count": null,
   "metadata": {},
   "outputs": [],
   "source": [
    "%%latex\n",
    "\\begin{equation*}\n",
    "    \\left(\\sum_{k=1}^n a_k b_k \\right)^2 \n",
    "    \\leq \n",
    "    \\left(\\sum_{k=1}^n a_k^2 \\right) \n",
    "    \\left(\\sum_{k=1}^n b_k^2 \\right)\n",
    "\\end{equation*}"
   ]
  },
  {
   "cell_type": "markdown",
   "metadata": {},
   "source": [
    "Finally, you can use Python to display LaTeX."
   ]
  },
  {
   "cell_type": "code",
   "execution_count": null,
   "metadata": {},
   "outputs": [],
   "source": [
    "from IPython.display import display, Math, Latex\n",
    "\n",
    "display(Math(r'c = \\sqrt{a^2+b^2}'))"
   ]
  },
  {
   "cell_type": "markdown",
   "metadata": {},
   "source": [
    "## Magic commands\n",
    "\n",
    "In addition to the full range of Python commands, the Jupyter notebooks provide a set of so-called *magic commands*. There are line magic commands which use a single ```%``` as prefix and work on a single line of input, and cell magic commands which use ```%%``` as prefix and work on the whole cell. Without telling you, we used one of the later earlier in this tutorial (```%%latex```). \n",
    "\n",
    "The list of magic commands depends on the Kernel you use for your notebook. Let's see what the Python kernel offers us."
   ]
  },
  {
   "cell_type": "code",
   "execution_count": null,
   "metadata": {},
   "outputs": [],
   "source": [
    "%lsmagic"
   ]
  },
  {
   "cell_type": "markdown",
   "metadata": {},
   "source": [
    "That's a lot. There is an in-built help system to get a short explanation for a magic command."
   ]
  },
  {
   "cell_type": "code",
   "execution_count": null,
   "metadata": {},
   "outputs": [],
   "source": [
    "?lsmagic"
   ]
  },
  {
   "cell_type": "markdown",
   "metadata": {},
   "source": [
    "### Matplotlib inline\n",
    "\n",
    "If you use matplotlib to do your plotting, the following magic command allow you to display the graphs and diagrams directly inline the Jupyter notebook. Just add the following line to your notebook whenever you import matplotlib. "
   ]
  },
  {
   "cell_type": "code",
   "execution_count": null,
   "metadata": {},
   "outputs": [],
   "source": [
    "%matplotlib inline"
   ]
  },
  {
   "cell_type": "markdown",
   "metadata": {},
   "source": [
    "### Notebook state\n",
    "\n",
    "There are a few magic commands that allow you to view the computations and the variables of your notebook.\n",
    "\n",
    "You can look at the history of inputs that have been run in the current session."
   ]
  },
  {
   "cell_type": "code",
   "execution_count": null,
   "metadata": {},
   "outputs": [],
   "source": [
    "%history -l 3"
   ]
  },
  {
   "cell_type": "markdown",
   "metadata": {},
   "source": [
    "For space reason, we printed the last 3 inputs that have been run. Of course you can print the whole history.\n",
    "\n",
    "```%history```\n",
    "\n",
    "You can also add line numbers...\n",
    "\n",
    "```%history -n```\n",
    "\n",
    "Let's have a look at the variables that are stored in the session state."
   ]
  },
  {
   "cell_type": "code",
   "execution_count": null,
   "metadata": {},
   "outputs": [],
   "source": [
    "%who"
   ]
  },
  {
   "cell_type": "markdown",
   "metadata": {},
   "source": [
    "Only show variables of a certain type, e.g. Pandas data frames (which are of type 'DataFrame'):"
   ]
  },
  {
   "cell_type": "code",
   "execution_count": null,
   "metadata": {},
   "outputs": [],
   "source": [
    "type(df)"
   ]
  },
  {
   "cell_type": "code",
   "execution_count": null,
   "metadata": {},
   "outputs": [],
   "source": [
    "%who DataFrame"
   ]
  },
  {
   "cell_type": "markdown",
   "metadata": {},
   "source": [
    "Instead of ```%who``` the magic command ```%whos``` works the same, but provides additional information on the variables. Here is an example showing only data frames (for shortness)"
   ]
  },
  {
   "cell_type": "code",
   "execution_count": null,
   "metadata": {},
   "outputs": [],
   "source": [
    "%whos DataFrame"
   ]
  },
  {
   "cell_type": "markdown",
   "metadata": {},
   "source": [
    "Finally, it's possible to get the current variables as a list."
   ]
  },
  {
   "cell_type": "code",
   "execution_count": null,
   "metadata": {},
   "outputs": [],
   "source": [
    "%who_ls"
   ]
  },
  {
   "cell_type": "markdown",
   "metadata": {},
   "source": [
    "### Timing code execution\n",
    "\n",
    "Sometimes it's good to know how long code runs. Jupyter Python notebooks provide you with several ways to do so.\n",
    "%time = will give you information about the time taken in a single run of the code in your cell.\n",
    "%timeit = uses the Python timeit module which runs a statement 100,000 times and gives the average time taken.\n",
    "\n",
    "\n",
    "Measure the time the execution of a single command takes."
   ]
  },
  {
   "cell_type": "code",
   "execution_count": null,
   "metadata": {},
   "outputs": [],
   "source": [
    "%time time.sleep(1)"
   ]
  },
  {
   "cell_type": "markdown",
   "metadata": {},
   "source": [
    "Note that CPU times refers to CPU computational cycles wheres wall time refers the actual time.\n",
    "\n",
    "Measure how long the execution takes averaged over multiple runs."
   ]
  },
  {
   "cell_type": "code",
   "execution_count": null,
   "metadata": {},
   "outputs": [],
   "source": [
    "%timeit list = [n ** 2 for n in range(1000)]"
   ]
  },
  {
   "cell_type": "markdown",
   "metadata": {},
   "source": [
    "Note that ```%timeit``` automatically limits the number of runs depending on the execution time of a single run. You can try that out if you change the above command to ```range(10000)```,  re-run the cell and see how the number of iterations/loops changes.  You can also set the number of iterations with a parameter ```-n```."
   ]
  },
  {
   "cell_type": "code",
   "execution_count": null,
   "metadata": {},
   "outputs": [],
   "source": [
    "%timeit -n 100 list = [n ** 2 for n in range(1000)]"
   ]
  },
  {
   "cell_type": "markdown",
   "metadata": {},
   "source": [
    "Measure the time of execution of the cell takes."
   ]
  },
  {
   "cell_type": "code",
   "execution_count": null,
   "metadata": {},
   "outputs": [],
   "source": [
    "%%timeit\n",
    "list = []\n",
    "for n in range(1000):\n",
    "    list.append(n ** 2)"
   ]
  },
  {
   "cell_type": "markdown",
   "metadata": {},
   "source": [
    "That's interesting. Functionally the same, list comprehensions in Python are more efficient than for loops."
   ]
  },
  {
   "cell_type": "markdown",
   "metadata": {},
   "source": [
    "## Running code from outside the notebook"
   ]
  },
  {
   "cell_type": "markdown",
   "metadata": {},
   "source": [
    "Let's say you have written a python script called ```helpers.py``` with some reusable functions that you want to use in this notebook. "
   ]
  },
  {
   "cell_type": "code",
   "execution_count": null,
   "metadata": {},
   "outputs": [],
   "source": [
    "from helpers import hello\n",
    "hello()"
   ]
  },
  {
   "cell_type": "markdown",
   "metadata": {},
   "source": [
    "Ok, so far so good. If you are working on your python script and in the notebook at the same time, you will notice that changes in the python script are not picked up by the notebook. You would have to restart the notebook every time you change something in the script.\n",
    "\n",
    "If you want to try that out, open the file ```helpers.py``` and change the greeting from English 'Hello' to the Spanish 'Hola'. Save the file and run the above cell again. Nothing changes.\n",
    "\n",
    "To change that behaviour, activate auto reloading in this notebook. (Run the next cell)"
   ]
  },
  {
   "cell_type": "code",
   "execution_count": null,
   "metadata": {},
   "outputs": [],
   "source": [
    "# load the autoreload extension\n",
    "%load_ext autoreload\n",
    "# Set extension to reload modules every time before executing code\n",
    "%autoreload 2"
   ]
  },
  {
   "cell_type": "markdown",
   "metadata": {},
   "source": [
    "Next time you change the file ```helpers.py``` and save it, that change will be loaded into the notebook. Change the greeting from the Spanish 'Hola' to the German 'Hallo'. Run the cell with ```hello()``` again and see what happens."
   ]
  },
  {
   "cell_type": "markdown",
   "metadata": {},
   "source": [
    "### Loading code into the notebook\n",
    "\n",
    "As an alternative to running code from outside the notebook, you can also load code into a cell in your notebook. \n",
    "\n",
    "Like this:"
   ]
  },
  {
   "cell_type": "raw",
   "metadata": {},
   "source": [
    "# Before Running \n",
    "%load ./helpers.py"
   ]
  },
  {
   "cell_type": "code",
   "execution_count": null,
   "metadata": {},
   "outputs": [],
   "source": [
    "# %load ./helpers.py\n",
    "def hello(name='world'):\n",
    "    \"\"\"\n",
    "    Method to print a greeting, defaulting to 'Hello, world!'\n",
    "    \"\"\"\n",
    "    print('Hello, {}!'.format(name))\n",
    "    \n",
    "def goodbye():\n",
    "    \"\"\"\n",
    "    Method to print a 'Goodbye!'\n",
    "    \"\"\"\n",
    "    print('Goodbye!')"
   ]
  },
  {
   "cell_type": "markdown",
   "metadata": {},
   "source": [
    "Running the cell with ```%load``` just exchanged the content of the cell with the content of the script. You now have to run the cell again to actually execute it. Once you have done this, you should be able to run the cell below with the newly defined function ```goodbye()```."
   ]
  },
  {
   "cell_type": "code",
   "execution_count": null,
   "metadata": {},
   "outputs": [],
   "source": [
    "goodbye()"
   ]
  },
  {
   "cell_type": "markdown",
   "metadata": {},
   "source": [
    "### Writing files out\n",
    "\n",
    "Just so you heard of it: It is not only possible to load a file as content into a cell, but also possible to write out the content of a cell into a file. Let's pretend we have written a wildly useful function in our notebook that we want to reuse later. One way to do so is to create a new python script and add the function to it manually. Another could be to use ```%%writefile```:  \n",
    "\n",
    "* ```%%writefile file_name```: write the content of the cell to a file called file_name (will overwrite existing file)\n",
    "* ```%%writefile -a file_name```: append the content of the cell to the existing file called file_name"
   ]
  },
  {
   "cell_type": "code",
   "execution_count": null,
   "metadata": {},
   "outputs": [],
   "source": [
    "%%writefile test.py\n",
    "def magic_number():\n",
    "    \"\"\"\n",
    "    Method to return the magic number.\n",
    "    \"\"\"\n",
    "    return 42\n"
   ]
  },
  {
   "cell_type": "markdown",
   "metadata": {},
   "source": [
    "Change it to ```%%writefile -a```, run the cell again and open test.py to see what happened"
   ]
  },
  {
   "cell_type": "markdown",
   "metadata": {},
   "source": [
    "## Working with Shell commands\n",
    "\n",
    "This section assumes that you are on MacOS or Linux, or another Unix like systems, and are somewhat familiar with using a shell. If so, you can access your system's command line from within the notebook.\n",
    "\n",
    "The magic command is the exclamation mark ```!```. Here are some examples."
   ]
  },
  {
   "cell_type": "code",
   "execution_count": null,
   "metadata": {},
   "outputs": [],
   "source": [
    "!echo \"Hello, World!\""
   ]
  },
  {
   "cell_type": "markdown",
   "metadata": {},
   "source": [
    "Conveniently enough, it's also possible to combine ```!``` shell commands with comments in your source code."
   ]
  },
  {
   "cell_type": "code",
   "execution_count": null,
   "metadata": {},
   "outputs": [],
   "source": [
    "!pwd # what is the current work directory?"
   ]
  },
  {
   "cell_type": "code",
   "execution_count": null,
   "metadata": {},
   "outputs": [],
   "source": [
    "!ls # list the files in the current directory"
   ]
  },
  {
   "cell_type": "markdown",
   "metadata": {},
   "source": [
    "You can save the output of a shell command to a Python list (or to be more precise as type ```IPython.utils.text.SList```)."
   ]
  },
  {
   "cell_type": "code",
   "execution_count": null,
   "metadata": {},
   "outputs": [],
   "source": [
    "directory = !pwd\n",
    "print(directory)"
   ]
  },
  {
   "cell_type": "code",
   "execution_count": null,
   "metadata": {},
   "outputs": [],
   "source": [
    "type(directory)"
   ]
  },
  {
   "cell_type": "markdown",
   "metadata": {},
   "source": [
    "You can pass Python variables into the shell. The curly brackets ```{variable}``` contain the variable name which is replaced with the variable content upon execution of the shell command. An alternative way to pass a variable is to prefix it with ```$``` in the shell command. Both ways are illustrated in the example below."
   ]
  },
  {
   "cell_type": "code",
   "execution_count": null,
   "metadata": {},
   "outputs": [],
   "source": [
    "greeting = \"Hello\"\n",
    "target = \"Python + Shell\"\n",
    "!echo {greeting}, $target"
   ]
  },
  {
   "cell_type": "markdown",
   "metadata": {},
   "source": [
    "Environment variables of your notebook and your shell can be read and set as well. "
   ]
  },
  {
   "cell_type": "code",
   "execution_count": null,
   "metadata": {},
   "outputs": [],
   "source": [
    "?env"
   ]
  },
  {
   "cell_type": "markdown",
   "metadata": {},
   "source": [
    "## Working with pip within the notebook"
   ]
  },
  {
   "cell_type": "code",
   "execution_count": null,
   "metadata": {},
   "outputs": [],
   "source": [
    "%pip show jupyter"
   ]
  },
  {
   "cell_type": "markdown",
   "metadata": {},
   "source": [
    "Running pip from the notebook may be useful if you need to install a certain Python package into your work environment for the Jupyter notebooks. \n",
    "\n",
    "Note: If you are using Anaconda, then the usual way to install a new package is the conda package manager."
   ]
  },
  {
   "cell_type": "markdown",
   "metadata": {},
   "source": [
    "---\n",
    "\n",
    "**Copyright 2019 by Daniel Paarmann**\n",
    "\n",
    "Licensed under the Apache License, Version 2.0 (the \"License\"); \n",
    "you may not use this file except in compliance with the License. \n",
    "You may obtain a copy of the License at http://www.apache.org/licenses/LICENSE-2.0\n",
    "\n",
    "Unless required by applicable law or agreed to in writing, software \n",
    "distributed under the License is distributed on an \"AS IS\" BASIS, \n",
    "WITHOUT WARRANTIES OR CONDITIONS OF ANY KIND, either express or implied. \n",
    "See the License for the specific language governing permissions and \n",
    "limitations under the License."
   ]
  }
 ],
 "metadata": {
  "kernelspec": {
   "display_name": "Python 3",
   "language": "python",
   "name": "python3"
  },
  "language_info": {
   "codemirror_mode": {
    "name": "ipython",
    "version": 3
   },
   "file_extension": ".py",
   "mimetype": "text/x-python",
   "name": "python",
   "nbconvert_exporter": "python",
   "pygments_lexer": "ipython3",
   "version": "3.7.4"
  }
 },
 "nbformat": 4,
 "nbformat_minor": 4
}
